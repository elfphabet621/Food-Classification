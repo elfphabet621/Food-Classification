{
  "nbformat": 4,
  "nbformat_minor": 0,
  "metadata": {
    "colab": {
      "provenance": []
    },
    "kernelspec": {
      "name": "python3",
      "display_name": "Python 3"
    },
    "language_info": {
      "name": "python"
    }
  },
  "cells": [
    {
      "cell_type": "code",
      "execution_count": null,
      "metadata": {
        "id": "TgnNFmQ0FAHL"
      },
      "outputs": [],
      "source": [
        "!pip install streamlit\n",
        "!npm install localtunnel\n",
        "!pip install --upgrade --no-cache-dir gdown -q"
      ]
    },
    {
      "cell_type": "code",
      "source": [
        "%%writefile app.py\n",
        "import streamlit as st\n",
        "import matplotlib.pyplot as plt\n",
        "from PIL import Image\n",
        "import torch\n",
        "from torchvision import transforms\n",
        "from torch import nn\n",
        "import gdown\n",
        "\n",
        "gdown.download(id='1w3_GY-3-MhJ4M8wis-UZtZJIrLOz5d1F', quiet=True)\n",
        "\n",
        "class TinyVGG(nn.Module):\n",
        "  def __init__(self, input_shape: int, \n",
        "               hidden_units: int,\n",
        "               output_shape: int) -> None:\n",
        "    super().__init__()\n",
        "    self.conv_block_1 = nn.Sequential(\n",
        "        nn.Conv2d(in_channels=input_shape,\n",
        "                  out_channels=hidden_units,\n",
        "                  kernel_size=3,\n",
        "                  stride=1,\n",
        "                  padding=0),\n",
        "        nn.ReLU(),\n",
        "        nn.Conv2d(in_channels=hidden_units,\n",
        "                  out_channels=hidden_units,\n",
        "                  kernel_size=3,\n",
        "                  stride=1,\n",
        "                  padding=0),\n",
        "        nn.ReLU(),\n",
        "        nn.MaxPool2d(kernel_size=2,\n",
        "                     stride=2)\n",
        "    )\n",
        "    self.conv_block_2 = nn.Sequential(\n",
        "        nn.Conv2d(in_channels=hidden_units,\n",
        "                  out_channels=hidden_units,\n",
        "                  kernel_size=3,\n",
        "                  stride=1,\n",
        "                  padding=0),\n",
        "        nn.ReLU(),\n",
        "        nn.Conv2d(in_channels=hidden_units,\n",
        "                  out_channels=hidden_units,\n",
        "                  kernel_size=3,\n",
        "                  stride=1,\n",
        "                  padding=0),\n",
        "        nn.ReLU(),\n",
        "        nn.MaxPool2d(kernel_size=2,\n",
        "                     stride=2)\n",
        "    )\n",
        "    self.classifier = nn.Sequential(\n",
        "        nn.Flatten(),\n",
        "        nn.Linear(in_features=hidden_units*13*13,\n",
        "                  out_features=output_shape)\n",
        "    )\n",
        "\n",
        "  def forward(self, x):\n",
        "    x = self.conv_block_1(x)\n",
        "    x = self.conv_block_2(x)\n",
        "    x = self.classifier(x)\n",
        "\n",
        "    return x\n",
        "\n",
        "categories = ['lasagna', 'pad_thai', 'pho', 'ramen']\n",
        "\n",
        "@st.cache_resource\n",
        "def load_model():\n",
        "  model = TinyVGG(input_shape=3, hidden_units=15, output_shape=len(categories))\n",
        "  ckp = torch.load('classify_food.pt', map_location=torch.device('cpu'))\n",
        "  model.load_state_dict(ckp['model_state_dict'])\n",
        "  preprocess = transforms.Compose([\n",
        "                  transforms.Resize(size=(64,64)),\n",
        "                  transforms.ToTensor()\n",
        "])\n",
        "  return model, preprocess\n",
        "\n",
        "def predict(preprocess, model, img_path):\n",
        "  with torch.inference_mode():\n",
        "    img = preprocess(Image.open(img_path))\n",
        "    prediction = model(img.unsqueeze(0)).squeeze(0).softmax(0)\n",
        "\n",
        "  return prediction\n",
        "\n",
        "st.title('Classify Food')\n",
        "file_uploaded = st.file_uploader('Choose a file', type=['jpg', 'png', 'jpeg'])\n",
        "\n",
        "if file_uploaded is not None:\n",
        "  image = Image.open(file_uploaded)\n",
        "  figure = plt.figure()\n",
        "  plt.imshow(image)\n",
        "  plt.axis('off')\n",
        "\n",
        "  model, preprocess = load_model()\n",
        "\n",
        "  prediction = predict(preprocess, model, file_uploaded)\n",
        "\n",
        "  result_index = prediction.argmax().item()\n",
        "  st.write('Predict:', categories[result_index])\n",
        "  st.pyplot(figure)"
      ],
      "metadata": {
        "colab": {
          "base_uri": "https://localhost:8080/"
        },
        "id": "342ZZ9IobvF6",
        "outputId": "b4521ad8-9e4e-4bba-9a3d-7171dce3f66c"
      },
      "execution_count": null,
      "outputs": [
        {
          "output_type": "stream",
          "name": "stdout",
          "text": [
            "Overwriting app.py\n"
          ]
        }
      ]
    },
    {
      "cell_type": "code",
      "source": [
        "!streamlit run /content/app.py &>/content/logs.txt &"
      ],
      "metadata": {
        "id": "x5txuW4rd9aZ"
      },
      "execution_count": null,
      "outputs": []
    },
    {
      "cell_type": "code",
      "source": [
        "!npx localtunnel --port 8501"
      ],
      "metadata": {
        "colab": {
          "base_uri": "https://localhost:8080/"
        },
        "id": "lYCGuYtjeAI6",
        "outputId": "b7fbc150-d829-423b-b6dd-8869e852cb7a"
      },
      "execution_count": null,
      "outputs": [
        {
          "output_type": "stream",
          "name": "stdout",
          "text": [
            "\u001b[K\u001b[?25hnpx: installed 22 in 3.488s\n",
            "your url is: https://nine-loops-flash-35-231-174-156.loca.lt\n",
            "^C\n"
          ]
        }
      ]
    }
  ]
}